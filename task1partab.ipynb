{
 "cells": [
  {
   "metadata": {},
   "cell_type": "markdown",
   "source": "# CSC321 - Module 4 Assignment",
   "id": "34f59fef68a8c166"
  },
  {
   "metadata": {},
   "cell_type": "markdown",
   "source": "### Jeremiah Liao & Lani Marsh",
   "id": "ee03941f348f117b"
  },
  {
   "metadata": {
    "ExecuteTime": {
     "end_time": "2024-10-19T21:30:25.971930Z",
     "start_time": "2024-10-19T21:30:20.962380Z"
    }
   },
   "cell_type": "code",
   "source": [
    "import numpy\n",
    "!pip install pycryptodome"
   ],
   "id": "3d86592e4f73484d",
   "outputs": [
    {
     "name": "stdout",
     "output_type": "stream",
     "text": [
      "Requirement already satisfied: pycryptodome in /opt/anaconda3/lib/python3.11/site-packages (3.21.0)\r\n"
     ]
    }
   ],
   "execution_count": 1
  },
  {
   "metadata": {},
   "cell_type": "markdown",
   "source": "## Task 1: Exploring Pseudo-Randomness and Collision Resistance",
   "id": "e5b11b357adedfe4"
  },
  {
   "metadata": {
    "ExecuteTime": {
     "end_time": "2024-10-19T21:30:29.190251Z",
     "start_time": "2024-10-19T21:30:29.186527Z"
    }
   },
   "cell_type": "code",
   "source": [
    "def generateRandomString(length):\n",
    "    return ''.join(random.choices(string.ascii_lowercase, k=length))"
   ],
   "id": "d643ec01eaa89f1f",
   "outputs": [],
   "execution_count": 2
  },
  {
   "metadata": {},
   "cell_type": "markdown",
   "source": "### Part A - Hash Inputs and return in Hex",
   "id": "6380ea026ff2920b"
  },
  {
   "metadata": {
    "ExecuteTime": {
     "end_time": "2024-10-19T21:30:31.037094Z",
     "start_time": "2024-10-19T21:30:30.944251Z"
    }
   },
   "cell_type": "code",
   "source": "from Crypto.Hash import SHA256",
   "id": "eebba5dbf35d1de2",
   "outputs": [],
   "execution_count": 3
  },
  {
   "metadata": {
    "ExecuteTime": {
     "end_time": "2024-10-19T21:38:39.596805Z",
     "start_time": "2024-10-19T21:38:39.577650Z"
    }
   },
   "cell_type": "code",
   "source": [
    "def hashInput(input : str) -> str:\n",
    "    hash = SHA256.new()\n",
    "    hash.update(input.encode('utf-8'))\n",
    "    return hash.hexdigest()"
   ],
   "id": "2c018bc15ae70a19",
   "outputs": [],
   "execution_count": 15
  },
  {
   "metadata": {
    "ExecuteTime": {
     "end_time": "2024-10-19T21:45:15.678812Z",
     "start_time": "2024-10-19T21:45:15.636126Z"
    }
   },
   "cell_type": "code",
   "source": [
    "m = 'hello'\n",
    "hashed_m = hashInput(m) # in hex format\n",
    "print(hashed_m)"
   ],
   "id": "7ba1e94c121270f7",
   "outputs": [
    {
     "name": "stdout",
     "output_type": "stream",
     "text": [
      "<class 'str'>\n",
      "2cf24dba5fb0a30e26e83b2ac5b9e29e1b161e5c1fa7425e73043362938b9824\n"
     ]
    }
   ],
   "execution_count": 20
  },
  {
   "metadata": {},
   "cell_type": "markdown",
   "source": "### Part B - Hashing two inputs that differ by 1 bit",
   "id": "e876d64e006bfdeb"
  },
  {
   "metadata": {
    "ExecuteTime": {
     "end_time": "2024-10-19T21:38:43.844297Z",
     "start_time": "2024-10-19T21:38:43.836872Z"
    }
   },
   "cell_type": "code",
   "source": [
    "import random\n",
    "import string"
   ],
   "id": "282366b9032f3384",
   "outputs": [],
   "execution_count": 17
  },
  {
   "metadata": {
    "ExecuteTime": {
     "end_time": "2024-10-19T21:38:44.440067Z",
     "start_time": "2024-10-19T21:38:44.433303Z"
    }
   },
   "cell_type": "code",
   "source": [
    "def hamming_distance(str1, str2):\n",
    "    return sum(c1 != c2 for c1, c2 in zip(str1, str2))"
   ],
   "id": "3bbad96631b95310",
   "outputs": [],
   "execution_count": 18
  },
  {
   "metadata": {
    "ExecuteTime": {
     "end_time": "2024-10-19T21:38:45.147068Z",
     "start_time": "2024-10-19T21:38:45.127247Z"
    }
   },
   "cell_type": "code",
   "source": [
    "for i in range(5):\n",
    "    print(\"-------------------------------------------------------\")\n",
    "    print()\n",
    "    print(\"Starting hash of two strings with hamming distance of 1\")\n",
    "    m1 = generateRandomString(10)\n",
    "    m2 = m1[:-1] + (chr(ord(m1[-1]) + 1))\n",
    "    \n",
    "    print(\"m1: \", m1)\n",
    "    print(\"m2: \", m2)\n",
    "    print(\"Hamming distance of m1 and m2: \", hamming_distance(m1, m2))\n",
    "    \n",
    "    hashed_m1 = hashInput(m1)\n",
    "    hashed_m2 = hashInput(m2)\n",
    "    \n",
    "    print(\"Hashed m1: \", hashed_m1)\n",
    "    print(\"Hashed m2: \", hashed_m2)\n",
    "    print()"
   ],
   "id": "74111b0510c9626b",
   "outputs": [
    {
     "name": "stdout",
     "output_type": "stream",
     "text": [
      "-------------------------------------------------------\n",
      "\n",
      "Starting hash of two strings with hamming distance of 1\n",
      "m1:  ciyvamvzwr\n",
      "m2:  ciyvamvzws\n",
      "Hamming distance of m1 and m2:  1\n",
      "Hashed m1:  f8793747fa0772ce88dd8ed7afcc633896a030808f1d03d36b12c5b08e0b30b9\n",
      "Hashed m2:  75a4640ee3562dad5b2ad158048ee2480ed2dd9e360d09f3790108fb9bd8b280\n",
      "\n",
      "-------------------------------------------------------\n",
      "\n",
      "Starting hash of two strings with hamming distance of 1\n",
      "m1:  osfjmqhbsv\n",
      "m2:  osfjmqhbsw\n",
      "Hamming distance of m1 and m2:  1\n",
      "Hashed m1:  d9202359f66fbc0b0bef6be31781229beb9608ddfd7124745d00bda348283a27\n",
      "Hashed m2:  f355d2afb7c425418e0e0fcac0b07981b66c8acf7cd9f7c4fed9f05d9eeed407\n",
      "\n",
      "-------------------------------------------------------\n",
      "\n",
      "Starting hash of two strings with hamming distance of 1\n",
      "m1:  sbgygddpsq\n",
      "m2:  sbgygddpsr\n",
      "Hamming distance of m1 and m2:  1\n",
      "Hashed m1:  2194d746abaf4d6e04e8da5de69d85b592e7990159c5feb8a0f84188169a5b2e\n",
      "Hashed m2:  0b40e814455cc1770010f68677ab0d5da528e2e575a795584886eafe16175611\n",
      "\n",
      "-------------------------------------------------------\n",
      "\n",
      "Starting hash of two strings with hamming distance of 1\n",
      "m1:  oioxzemydu\n",
      "m2:  oioxzemydv\n",
      "Hamming distance of m1 and m2:  1\n",
      "Hashed m1:  5e35fa49c125c9110c7082f43b9503236586929200b4df00251c2e6f49d72a07\n",
      "Hashed m2:  73e224aa23ef940c9c4a84e0250253a5940a41dbe2c6a0cde7f5b12c54520cd9\n",
      "\n",
      "-------------------------------------------------------\n",
      "\n",
      "Starting hash of two strings with hamming distance of 1\n",
      "m1:  pdnocqennd\n",
      "m2:  pdnocqenne\n",
      "Hamming distance of m1 and m2:  1\n",
      "Hashed m1:  78f95472cc966727f0bb8c0a443067271819f59ab7673608fb4675a88c7100ab\n",
      "Hashed m2:  fc4a0bb03b47a4e78f2d1523628bf1680f038682b5e98e9cf02c69ad8ff320ca\n",
      "\n"
     ]
    }
   ],
   "execution_count": 19
  }
 ],
 "metadata": {
  "kernelspec": {
   "display_name": "Python 3",
   "language": "python",
   "name": "python3"
  },
  "language_info": {
   "codemirror_mode": {
    "name": "ipython",
    "version": 2
   },
   "file_extension": ".py",
   "mimetype": "text/x-python",
   "name": "python",
   "nbconvert_exporter": "python",
   "pygments_lexer": "ipython2",
   "version": "2.7.6"
  }
 },
 "nbformat": 4,
 "nbformat_minor": 5
}
