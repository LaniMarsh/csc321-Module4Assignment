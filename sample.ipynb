{
 "cells": [
  {
   "metadata": {},
   "cell_type": "markdown",
   "source": "# CSC321 - Module 4 Assignment",
   "id": "34f59fef68a8c166"
  },
  {
   "metadata": {},
   "cell_type": "markdown",
   "source": "### Jeremiah Liao & Lani Marsh",
   "id": "ee03941f348f117b"
  },
  {
   "metadata": {
    "ExecuteTime": {
     "end_time": "2024-10-15T20:28:13.114207Z",
     "start_time": "2024-10-15T20:27:58.414982Z"
    }
   },
   "cell_type": "code",
   "source": "!pip install pycryptodome",
   "id": "3d86592e4f73484d",
   "outputs": [
    {
     "name": "stdout",
     "output_type": "stream",
     "text": [
      "Requirement already satisfied: pycryptodome in /opt/anaconda3/lib/python3.11/site-packages (3.21.0)\r\n",
      "Note: you may need to restart the kernel to use updated packages.\n"
     ]
    }
   ],
   "execution_count": 12
  },
  {
   "metadata": {},
   "cell_type": "markdown",
   "source": "## Task 1: Exploring Pseudo-Randomness and Collision Resistance",
   "id": "e5b11b357adedfe4"
  },
  {
   "metadata": {
    "ExecuteTime": {
     "end_time": "2024-10-15T20:36:15.690227Z",
     "start_time": "2024-10-15T20:36:15.643210Z"
    }
   },
   "cell_type": "code",
   "source": "from Crypto.Hash import SHA256",
   "id": "eebba5dbf35d1de2",
   "outputs": [],
   "execution_count": 32
  },
  {
   "metadata": {
    "ExecuteTime": {
     "end_time": "2024-10-16T03:49:52.217180Z",
     "start_time": "2024-10-16T03:49:52.212543Z"
    }
   },
   "cell_type": "code",
   "source": [
    "def hashInput(input : str) -> bytes:\n",
    "    hash = SHA256.new()\n",
    "    hash.update(input.encode('utf-8'))\n",
    "    return hash.hexdigest().encode()"
   ],
   "id": "2c018bc15ae70a19",
   "outputs": [],
   "execution_count": 37
  },
  {
   "metadata": {
    "ExecuteTime": {
     "end_time": "2024-10-16T03:49:59.503104Z",
     "start_time": "2024-10-16T03:49:59.498149Z"
    }
   },
   "cell_type": "code",
   "source": [
    "m1 = 'hello'\n",
    "hashed_m1 = hashInput(m1).hex() # in hex format\n",
    "print(hashed_m1)"
   ],
   "id": "7ba1e94c121270f7",
   "outputs": [
    {
     "name": "stdout",
     "output_type": "stream",
     "text": [
      "32636632346462613566623061333065323665383362326163356239653239653162313631653563316661373432356537333034333336323933386239383234\n"
     ]
    }
   ],
   "execution_count": 39
  },
  {
   "metadata": {},
   "cell_type": "code",
   "outputs": [],
   "execution_count": null,
   "source": "",
   "id": "74111b0510c9626b"
  }
 ],
 "metadata": {
  "kernelspec": {
   "display_name": "Python 3",
   "language": "python",
   "name": "python3"
  },
  "language_info": {
   "codemirror_mode": {
    "name": "ipython",
    "version": 2
   },
   "file_extension": ".py",
   "mimetype": "text/x-python",
   "name": "python",
   "nbconvert_exporter": "python",
   "pygments_lexer": "ipython2",
   "version": "2.7.6"
  }
 },
 "nbformat": 4,
 "nbformat_minor": 5
}
